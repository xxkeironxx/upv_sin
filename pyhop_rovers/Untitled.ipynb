{
 "cells": [
  {
   "cell_type": "code",
   "execution_count": 25,
   "metadata": {
    "collapsed": false
   },
   "outputs": [
    {
     "name": "stdout",
     "output_type": "stream",
     "text": [
      "['c1', 'c0']\n",
      "c0\n"
     ]
    }
   ],
   "source": [
    "supports={'r0':{'c0':{'colour','high-res'}, 'c1':{'colour','low-res'}}}\n",
    "calibration_target={'c0':'o1'}\n",
    "a=supports['r0']\n",
    "#for key,value in a.items():\n",
    "#    print (key,value, end=\"; \")\n",
    "cam=[key for key,value in a.items() if 'colour' in value]\n",
    "print(cam)\n",
    "#[key for key,value in cam.items() if 'colour' in value]\n",
    "for b in cam:\n",
    "    if b in calibration_target:\n",
    "        print(b)\n",
    "#calibration_target[cam]\n",
    "#if 'o1' in calibration_target[cam]:\n",
    "#    print('da')\n",
    "#print(calibration_target['cam'])"
   ]
  },
  {
   "cell_type": "code",
   "execution_count": 45,
   "metadata": {
    "collapsed": false
   },
   "outputs": [
    {
     "name": "stdout",
     "output_type": "stream",
     "text": [
      "da\n",
      "{'r0': {'c0': True}}\n"
     ]
    }
   ],
   "source": [
    "rover='r0'\n",
    "camera='c0'\n",
    "calibrated={'r0':{'c0':False}}\n",
    "if calibrated[rover][camera]==False:\n",
    "    print('da')\n",
    "    calibrated[rover][camera]=not calibrated[rover][camera]\n",
    "\n",
    "print(calibrated)"
   ]
  },
  {
   "cell_type": "code",
   "execution_count": 41,
   "metadata": {
    "collapsed": false
   },
   "outputs": [
    {
     "data": {
      "text/plain": [
       "['c1', 'c0']"
      ]
     },
     "execution_count": 41,
     "metadata": {},
     "output_type": "execute_result"
    }
   ],
   "source": [
    "mode='hight-res'\n",
    "rover='r0'\n",
    "supports={'r0':{'c0':{'colour','high-res'}, 'c1':{'black','high-res'}}}\n",
    "#supports[rover].items()\n",
    "[key for key, value in supports[rover].items()]# if 'colour' in value]\n"
   ]
  }
 ],
 "metadata": {
  "kernelspec": {
   "display_name": "Python 3",
   "language": "python",
   "name": "python3"
  },
  "language_info": {
   "codemirror_mode": {
    "name": "ipython",
    "version": 3
   },
   "file_extension": ".py",
   "mimetype": "text/x-python",
   "name": "python",
   "nbconvert_exporter": "python",
   "pygments_lexer": "ipython3",
   "version": "3.5.2"
  }
 },
 "nbformat": 4,
 "nbformat_minor": 1
}
