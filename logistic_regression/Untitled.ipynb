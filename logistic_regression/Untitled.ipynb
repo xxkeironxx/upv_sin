{
 "cells": [
  {
   "cell_type": "code",
   "execution_count": 1,
   "metadata": {
    "collapsed": false
   },
   "outputs": [
    {
     "name": "stdout",
     "output_type": "stream",
     "text": [
      "score_proba 0.931601731602\n",
      "score_predict 0.876623376623\n",
      "score 0.877450980392\n",
      "accuracy 0.877450980392\n"
     ]
    },
    {
     "data": {
      "text/plain": [
       "array([-1,  1], dtype=int64)"
      ]
     },
     "execution_count": 1,
     "metadata": {},
     "output_type": "execute_result"
    }
   ],
   "source": [
    "import pandas as pd\n",
    "import numpy as np\n",
    "data_train=pd.read_csv('data-logistic.csv')\n",
    "from sklearn.linear_model import LogisticRegression\n",
    "from sklearn.metrics import roc_auc_score, accuracy_score\n",
    "\n",
    "X, y = data_train.iloc[:,[1,2]], np.ravel(data_train.iloc[:, [0]])\n",
    "clf_l2_LR = LogisticRegression(C=100, penalty='l2', tol=0.00001, max_iter=10000,  intercept_scaling=0.1)\n",
    "clf_l2_LR.fit(X, y)\n",
    "#clf_l2_LR.predict(X)\n",
    "\n",
    "\n",
    "#clf_l2_LR.predict_proba(X)\n",
    "\n",
    "print('score_proba', roc_auc_score(y,clf_l2_LR.predict_proba(X)[:, 1]))\n",
    "print('score_predict', roc_auc_score(y,clf_l2_LR.predict(X)))\n",
    "print('score', clf_l2_LR.score(X,y))\n",
    "print ('accuracy', accuracy_score(y, clf_l2_LR.predict(X)))\n",
    "#coef_l1_LR = clf_l1_LR.coef_.ravel()\n",
    "np.unique(y)\n",
    "#\n",
    "#a(x) = 1 / (1 + exp(-w1 x1 - w2 x2))"
   ]
  },
  {
   "cell_type": "code",
   "execution_count": 18,
   "metadata": {
    "collapsed": false
   },
   "outputs": [
    {
     "name": "stdout",
     "output_type": "stream",
     "text": [
      "score 0.853940175665\n",
      "accuracy 0.853940175665\n"
     ]
    }
   ],
   "source": [
    "import pandas as pd\n",
    "import numpy as np\n",
    "from sklearn.linear_model import LogisticRegression\n",
    "from sklearn.metrics import roc_auc_score, accuracy_score\n",
    "from sklearn.feature_extraction import DictVectorizer\n",
    "\n",
    "data_train=pd.read_csv('adult.data',header=None,names=['age','Workclass','fnlwgt','education',\n",
    "'education-num','marital-status','occupation','relationship','race','sex',\n",
    "'capital-gain','capital-loss','hours-per-week','native-country','salary'])\n",
    "data_test=pd.read_csv('adult.test',header=None,names=['age','Workclass','fnlwgt','education',\n",
    "'education-num','marital-status','occupation','relationship','race','sex',\n",
    "'capital-gain','capital-loss','hours-per-week','native-country','salary'])\n",
    "\n",
    "enc = DictVectorizer()\n",
    "\n",
    "#data_train.fillna('nan', inplace=True)\n",
    "data_train.iloc[:, [1,3,5,6,7,8,9,13]]=data_train.iloc[:, [1,3,5,6,7,8,9,13]].replace('[^a-zA-Z0-9?]', '', regex = True)\n",
    "data_train.iloc[:, [1,3,5,6,7,8,9,13]]=data_train.iloc[:, [1,3,5,6,7,8,9,13]].applymap(str.lower)\n",
    "\n",
    "#data_test['Workclass'].fillna('nan', inplace=True)\n",
    "data_test.iloc[:, [1,3,5,6,7,8,9,13]]=data_test.iloc[:, [1,3,5,6,7,8,9,13]].replace('[^a-zA-Z0-9?]', '', regex = True)\n",
    "data_test.iloc[:, [1,3,5,6,7,8,9,13]]=data_test.iloc[:, [1,3,5,6,7,8,9,13]].applymap(str.lower)\n",
    "data_test.iloc[:, [14]]=data_test.iloc[:, [14]].replace('[.]', ' ', regex = True)\n",
    "\n",
    "X, y = data_train.iloc[:, list(range(0,14,1))], np.ravel(data_train.iloc[:, [14]].replace(r' <=50K', '-1').replace(r' >50K','1'))\n",
    "X_t, y_t = data_test.iloc[:, list(range(0,14,1))], np.ravel(data_test.iloc[:, [14]].replace(r' <=50K ', '-1').replace(r' >50K ','1'))\n",
    "\n",
    "X_train_categ = enc.fit_transform(X.to_dict('records'))\n",
    "X_test_categ = enc.transform(X_t.to_dict('records'))\n",
    "\n",
    "clf_l2_LR = LogisticRegression(C=0.1, penalty='l1', tol=0.00001, max_iter=1000,  intercept_scaling=0.1)\n",
    "clf_l2_LR.fit(X_train_categ, y)\n",
    "\n",
    "\n",
    "print('score', clf_l2_LR.score(X_test_categ,y_t))\n",
    "print ('accuracy', accuracy_score(y_t, clf_l2_LR.predict(X_test_categ)))\n",
    "\n",
    "\n",
    "\n",
    "###81.65-goal, 85.95-top\n",
    "\n",
    "#score 0.8518165904\n",
    "#accuracy 0.8518165904\n",
    "#-----------\n",
    "#score 0.85369449051\n",
    "#accuracy 0.85369449051\n"
   ]
  },
  {
   "cell_type": "code",
   "execution_count": 29,
   "metadata": {
    "collapsed": false
   },
   "outputs": [
    {
     "ename": "FileNotFoundError",
     "evalue": "File b'salary-train.csv' does not exist",
     "output_type": "error",
     "traceback": [
      "\u001b[1;31m---------------------------------------------------------------------------\u001b[0m",
      "\u001b[1;31mFileNotFoundError\u001b[0m                         Traceback (most recent call last)",
      "\u001b[1;32m<ipython-input-29-f01c588e01f8>\u001b[0m in \u001b[0;36m<module>\u001b[1;34m()\u001b[0m\n\u001b[1;32m----> 1\u001b[1;33m \u001b[0mdata_train\u001b[0m\u001b[1;33m=\u001b[0m\u001b[0mpd\u001b[0m\u001b[1;33m.\u001b[0m\u001b[0mread_csv\u001b[0m\u001b[1;33m(\u001b[0m\u001b[1;34m'salary-train.csv'\u001b[0m\u001b[1;33m)\u001b[0m\u001b[1;33m\u001b[0m\u001b[0m\n\u001b[0m",
      "\u001b[1;32mC:\\Users\\Denas\\Miniconda3\\lib\\site-packages\\pandas\\io\\parsers.py\u001b[0m in \u001b[0;36mparser_f\u001b[1;34m(filepath_or_buffer, sep, delimiter, header, names, index_col, usecols, squeeze, prefix, mangle_dupe_cols, dtype, engine, converters, true_values, false_values, skipinitialspace, skiprows, nrows, na_values, keep_default_na, na_filter, verbose, skip_blank_lines, parse_dates, infer_datetime_format, keep_date_col, date_parser, dayfirst, iterator, chunksize, compression, thousands, decimal, lineterminator, quotechar, quoting, escapechar, comment, encoding, dialect, tupleize_cols, error_bad_lines, warn_bad_lines, skipfooter, skip_footer, doublequote, delim_whitespace, as_recarray, compact_ints, use_unsigned, low_memory, buffer_lines, memory_map, float_precision)\u001b[0m\n\u001b[0;32m    653\u001b[0m                     skip_blank_lines=skip_blank_lines)\n\u001b[0;32m    654\u001b[0m \u001b[1;33m\u001b[0m\u001b[0m\n\u001b[1;32m--> 655\u001b[1;33m         \u001b[1;32mreturn\u001b[0m \u001b[0m_read\u001b[0m\u001b[1;33m(\u001b[0m\u001b[0mfilepath_or_buffer\u001b[0m\u001b[1;33m,\u001b[0m \u001b[0mkwds\u001b[0m\u001b[1;33m)\u001b[0m\u001b[1;33m\u001b[0m\u001b[0m\n\u001b[0m\u001b[0;32m    656\u001b[0m \u001b[1;33m\u001b[0m\u001b[0m\n\u001b[0;32m    657\u001b[0m     \u001b[0mparser_f\u001b[0m\u001b[1;33m.\u001b[0m\u001b[0m__name__\u001b[0m \u001b[1;33m=\u001b[0m \u001b[0mname\u001b[0m\u001b[1;33m\u001b[0m\u001b[0m\n",
      "\u001b[1;32mC:\\Users\\Denas\\Miniconda3\\lib\\site-packages\\pandas\\io\\parsers.py\u001b[0m in \u001b[0;36m_read\u001b[1;34m(filepath_or_buffer, kwds)\u001b[0m\n\u001b[0;32m    403\u001b[0m \u001b[1;33m\u001b[0m\u001b[0m\n\u001b[0;32m    404\u001b[0m     \u001b[1;31m# Create the parser.\u001b[0m\u001b[1;33m\u001b[0m\u001b[1;33m\u001b[0m\u001b[0m\n\u001b[1;32m--> 405\u001b[1;33m     \u001b[0mparser\u001b[0m \u001b[1;33m=\u001b[0m \u001b[0mTextFileReader\u001b[0m\u001b[1;33m(\u001b[0m\u001b[0mfilepath_or_buffer\u001b[0m\u001b[1;33m,\u001b[0m \u001b[1;33m**\u001b[0m\u001b[0mkwds\u001b[0m\u001b[1;33m)\u001b[0m\u001b[1;33m\u001b[0m\u001b[0m\n\u001b[0m\u001b[0;32m    406\u001b[0m \u001b[1;33m\u001b[0m\u001b[0m\n\u001b[0;32m    407\u001b[0m     \u001b[1;32mif\u001b[0m \u001b[0mchunksize\u001b[0m \u001b[1;32mor\u001b[0m \u001b[0miterator\u001b[0m\u001b[1;33m:\u001b[0m\u001b[1;33m\u001b[0m\u001b[0m\n",
      "\u001b[1;32mC:\\Users\\Denas\\Miniconda3\\lib\\site-packages\\pandas\\io\\parsers.py\u001b[0m in \u001b[0;36m__init__\u001b[1;34m(self, f, engine, **kwds)\u001b[0m\n\u001b[0;32m    760\u001b[0m             \u001b[0mself\u001b[0m\u001b[1;33m.\u001b[0m\u001b[0moptions\u001b[0m\u001b[1;33m[\u001b[0m\u001b[1;34m'has_index_names'\u001b[0m\u001b[1;33m]\u001b[0m \u001b[1;33m=\u001b[0m \u001b[0mkwds\u001b[0m\u001b[1;33m[\u001b[0m\u001b[1;34m'has_index_names'\u001b[0m\u001b[1;33m]\u001b[0m\u001b[1;33m\u001b[0m\u001b[0m\n\u001b[0;32m    761\u001b[0m \u001b[1;33m\u001b[0m\u001b[0m\n\u001b[1;32m--> 762\u001b[1;33m         \u001b[0mself\u001b[0m\u001b[1;33m.\u001b[0m\u001b[0m_make_engine\u001b[0m\u001b[1;33m(\u001b[0m\u001b[0mself\u001b[0m\u001b[1;33m.\u001b[0m\u001b[0mengine\u001b[0m\u001b[1;33m)\u001b[0m\u001b[1;33m\u001b[0m\u001b[0m\n\u001b[0m\u001b[0;32m    763\u001b[0m \u001b[1;33m\u001b[0m\u001b[0m\n\u001b[0;32m    764\u001b[0m     \u001b[1;32mdef\u001b[0m \u001b[0mclose\u001b[0m\u001b[1;33m(\u001b[0m\u001b[0mself\u001b[0m\u001b[1;33m)\u001b[0m\u001b[1;33m:\u001b[0m\u001b[1;33m\u001b[0m\u001b[0m\n",
      "\u001b[1;32mC:\\Users\\Denas\\Miniconda3\\lib\\site-packages\\pandas\\io\\parsers.py\u001b[0m in \u001b[0;36m_make_engine\u001b[1;34m(self, engine)\u001b[0m\n\u001b[0;32m    964\u001b[0m     \u001b[1;32mdef\u001b[0m \u001b[0m_make_engine\u001b[0m\u001b[1;33m(\u001b[0m\u001b[0mself\u001b[0m\u001b[1;33m,\u001b[0m \u001b[0mengine\u001b[0m\u001b[1;33m=\u001b[0m\u001b[1;34m'c'\u001b[0m\u001b[1;33m)\u001b[0m\u001b[1;33m:\u001b[0m\u001b[1;33m\u001b[0m\u001b[0m\n\u001b[0;32m    965\u001b[0m         \u001b[1;32mif\u001b[0m \u001b[0mengine\u001b[0m \u001b[1;33m==\u001b[0m \u001b[1;34m'c'\u001b[0m\u001b[1;33m:\u001b[0m\u001b[1;33m\u001b[0m\u001b[0m\n\u001b[1;32m--> 966\u001b[1;33m             \u001b[0mself\u001b[0m\u001b[1;33m.\u001b[0m\u001b[0m_engine\u001b[0m \u001b[1;33m=\u001b[0m \u001b[0mCParserWrapper\u001b[0m\u001b[1;33m(\u001b[0m\u001b[0mself\u001b[0m\u001b[1;33m.\u001b[0m\u001b[0mf\u001b[0m\u001b[1;33m,\u001b[0m \u001b[1;33m**\u001b[0m\u001b[0mself\u001b[0m\u001b[1;33m.\u001b[0m\u001b[0moptions\u001b[0m\u001b[1;33m)\u001b[0m\u001b[1;33m\u001b[0m\u001b[0m\n\u001b[0m\u001b[0;32m    967\u001b[0m         \u001b[1;32melse\u001b[0m\u001b[1;33m:\u001b[0m\u001b[1;33m\u001b[0m\u001b[0m\n\u001b[0;32m    968\u001b[0m             \u001b[1;32mif\u001b[0m \u001b[0mengine\u001b[0m \u001b[1;33m==\u001b[0m \u001b[1;34m'python'\u001b[0m\u001b[1;33m:\u001b[0m\u001b[1;33m\u001b[0m\u001b[0m\n",
      "\u001b[1;32mC:\\Users\\Denas\\Miniconda3\\lib\\site-packages\\pandas\\io\\parsers.py\u001b[0m in \u001b[0;36m__init__\u001b[1;34m(self, src, **kwds)\u001b[0m\n\u001b[0;32m   1580\u001b[0m         \u001b[0mkwds\u001b[0m\u001b[1;33m[\u001b[0m\u001b[1;34m'allow_leading_cols'\u001b[0m\u001b[1;33m]\u001b[0m \u001b[1;33m=\u001b[0m \u001b[0mself\u001b[0m\u001b[1;33m.\u001b[0m\u001b[0mindex_col\u001b[0m \u001b[1;32mis\u001b[0m \u001b[1;32mnot\u001b[0m \u001b[1;32mFalse\u001b[0m\u001b[1;33m\u001b[0m\u001b[0m\n\u001b[0;32m   1581\u001b[0m \u001b[1;33m\u001b[0m\u001b[0m\n\u001b[1;32m-> 1582\u001b[1;33m         \u001b[0mself\u001b[0m\u001b[1;33m.\u001b[0m\u001b[0m_reader\u001b[0m \u001b[1;33m=\u001b[0m \u001b[0mparsers\u001b[0m\u001b[1;33m.\u001b[0m\u001b[0mTextReader\u001b[0m\u001b[1;33m(\u001b[0m\u001b[0msrc\u001b[0m\u001b[1;33m,\u001b[0m \u001b[1;33m**\u001b[0m\u001b[0mkwds\u001b[0m\u001b[1;33m)\u001b[0m\u001b[1;33m\u001b[0m\u001b[0m\n\u001b[0m\u001b[0;32m   1583\u001b[0m \u001b[1;33m\u001b[0m\u001b[0m\n\u001b[0;32m   1584\u001b[0m         \u001b[1;31m# XXX\u001b[0m\u001b[1;33m\u001b[0m\u001b[1;33m\u001b[0m\u001b[0m\n",
      "\u001b[1;32mpandas\\_libs\\parsers.pyx\u001b[0m in \u001b[0;36mpandas._libs.parsers.TextReader.__cinit__ (pandas\\_libs\\parsers.c:4209)\u001b[1;34m()\u001b[0m\n",
      "\u001b[1;32mpandas\\_libs\\parsers.pyx\u001b[0m in \u001b[0;36mpandas._libs.parsers.TextReader._setup_parser_source (pandas\\_libs\\parsers.c:8873)\u001b[1;34m()\u001b[0m\n",
      "\u001b[1;31mFileNotFoundError\u001b[0m: File b'salary-train.csv' does not exist"
     ]
    }
   ],
   "source": [
    "data_train=pd.read_csv('salary-train.csv')\n",
    "\n",
    "#z=data_train.fillna('nan', inplace=True)\n",
    "\n",
    "#clf_l2_LR.predict_proba(X_test_categ)[:, 1]\n",
    "\n",
    "#np.unique(y_t)\n",
    "#np.unique(clf_l2_LR.predict(X_train_categ))\n",
    "#y.astype(int)\n",
    "#array(['0', '1'], dtype=object)\n",
    "#array(['0', '1'], dtype=object)\n",
    "#X_train_categ {'0', '1'}\n",
    "print('score_proba', roc_auc_score(y.astype(int),clf_l2_LR.predict_proba(X_train_categ)[:, 1]))\n",
    "print('score_predict', roc_auc_score(y.astype(int),clf_l2_LR.predict(X_train_categ).astype(int)))\n",
    "print('score', clf_l2_LR.score(X_train_categ,y))\n",
    "print ('accuracy', accuracy_score(y, clf_l2_LR.predict(X_train_categ)))\n",
    "print('-----------')\n",
    "print('score_proba', roc_auc_score(y_t.astype(int),clf_l2_LR.predict_proba(X_test_categ)[:, 1]))\n",
    "print('score_predict', roc_auc_score(y_t.astype(int),clf_l2_LR.predict(X_test_categ).astype(int)))"
   ]
  }
 ],
 "metadata": {
  "kernelspec": {
   "display_name": "Python 3",
   "language": "python",
   "name": "python3"
  },
  "language_info": {
   "codemirror_mode": {
    "name": "ipython",
    "version": 3
   },
   "file_extension": ".py",
   "mimetype": "text/x-python",
   "name": "python",
   "nbconvert_exporter": "python",
   "pygments_lexer": "ipython3",
   "version": "3.5.2"
  }
 },
 "nbformat": 4,
 "nbformat_minor": 1
}
