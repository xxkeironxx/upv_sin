{
 "cells": [
  {
   "cell_type": "code",
   "execution_count": 3,
   "metadata": {
    "collapsed": false,
    "scrolled": true
   },
   "outputs": [
    {
     "name": "stdout",
     "output_type": "stream",
     "text": [
      "The autoreload extension is already loaded. To reload it, use:\n",
      "  %reload_ext autoreload\n",
      "TASK:         METHODS:\n",
      "go_to_waypointgo_to_waypoint_m\n",
      "move_containermove_container_m\n",
      "unload_all    unload_all_m\n",
      "go_to_fuel    go_to_fuel_m\n",
      "OPERATORS: load, unload, already_there, done, find_shortest_path, already_unloaded, lift, drop\n",
      "** pyhop, verbose=3: **\n",
      "   state = state1\n",
      "   tasks = [('move_container', ['C12'], 'P30')]\n",
      "depth 0 tasks [('move_container', ['C12'], 'P30')]\n",
      "depth 0 method instance ('move_container', ['C12'], 'P30')\n",
      "=======CONTAINER  C12 =======\n",
      "============TRUCK SELECTED   =============\n",
      "depth 0 new tasks: [('go_to_waypoint', '', 'D0'), ('lift', 'H0', 'P00'), ('load', 'H0', ''), ('go_to_waypoint', '', 'D3'), ('unload', 'H3', ''), ('drop', 'H3', 'P30'), ('move_container', ['C12'], 'P30')]\n",
      "depth 1 tasks [('go_to_waypoint', '', 'D0'), ('lift', 'H0', 'P00'), ('load', 'H0', ''), ('go_to_waypoint', '', 'D3'), ('unload', 'H3', ''), ('drop', 'H3', 'P30'), ('move_container', ['C12'], 'P30')]\n",
      "depth 1 method instance ('go_to_waypoint', '', 'D0')\n"
     ]
    },
    {
     "ename": "KeyError",
     "evalue": "''",
     "output_type": "error",
     "traceback": [
      "\u001b[1;31m---------------------------------------------------------------------------\u001b[0m",
      "\u001b[1;31mKeyError\u001b[0m                                  Traceback (most recent call last)",
      "\u001b[1;32m<ipython-input-3-ef14a9c890e1>\u001b[0m in \u001b[0;36m<module>\u001b[1;34m()\u001b[0m\n\u001b[0;32m     26\u001b[0m \u001b[0mpyhop\u001b[0m\u001b[1;33m.\u001b[0m\u001b[0mprint_operators\u001b[0m\u001b[1;33m(\u001b[0m\u001b[1;33m)\u001b[0m\u001b[1;33m\u001b[0m\u001b[0m\n\u001b[0;32m     27\u001b[0m \u001b[1;31m#pyhop.pyhop(state1, [('go_to_waypoint','T1','D4')], verbose=3)\u001b[0m\u001b[1;33m\u001b[0m\u001b[1;33m\u001b[0m\u001b[0m\n\u001b[1;32m---> 28\u001b[1;33m \u001b[0mpyhop\u001b[0m\u001b[1;33m.\u001b[0m\u001b[0mpyhop\u001b[0m\u001b[1;33m(\u001b[0m\u001b[0mstate1\u001b[0m\u001b[1;33m,\u001b[0m\u001b[1;33m[\u001b[0m\u001b[1;33m(\u001b[0m\u001b[1;34m'move_container'\u001b[0m\u001b[1;33m,\u001b[0m \u001b[1;33m[\u001b[0m\u001b[1;34m'C12'\u001b[0m\u001b[1;33m]\u001b[0m\u001b[1;33m,\u001b[0m \u001b[1;34m'P30'\u001b[0m\u001b[1;33m)\u001b[0m\u001b[1;33m]\u001b[0m\u001b[1;33m,\u001b[0m \u001b[0mverbose\u001b[0m\u001b[1;33m=\u001b[0m\u001b[1;36m3\u001b[0m\u001b[1;33m)\u001b[0m\u001b[1;33m\u001b[0m\u001b[0m\n\u001b[0m\u001b[0;32m     29\u001b[0m \u001b[1;31m#pyhop.pyhop(state1,[('move_container', ['C01'], 'P40')], verbose=3)\u001b[0m\u001b[1;33m\u001b[0m\u001b[1;33m\u001b[0m\u001b[0m\n\u001b[0;32m     30\u001b[0m \u001b[1;33m\u001b[0m\u001b[0m\n",
      "\u001b[1;32mC:\\Users\\Denas\\Documents\\python scripts\\Sistemas Inteligentes\\lab2\\pyhop.py\u001b[0m in \u001b[0;36mpyhop\u001b[1;34m(state, tasks, verbose)\u001b[0m\n\u001b[0;32m    198\u001b[0m     \"\"\"\n\u001b[0;32m    199\u001b[0m     \u001b[1;32mif\u001b[0m \u001b[0mverbose\u001b[0m\u001b[1;33m>\u001b[0m\u001b[1;36m0\u001b[0m\u001b[1;33m:\u001b[0m \u001b[0mprint\u001b[0m\u001b[1;33m(\u001b[0m\u001b[1;34m'** pyhop, verbose={}: **\\n   state = {}\\n   tasks = {}'\u001b[0m\u001b[1;33m.\u001b[0m\u001b[0mformat\u001b[0m\u001b[1;33m(\u001b[0m\u001b[0mverbose\u001b[0m\u001b[1;33m,\u001b[0m \u001b[0mstate\u001b[0m\u001b[1;33m.\u001b[0m\u001b[0m__name__\u001b[0m\u001b[1;33m,\u001b[0m \u001b[0mtasks\u001b[0m\u001b[1;33m)\u001b[0m\u001b[1;33m)\u001b[0m\u001b[1;33m\u001b[0m\u001b[0m\n\u001b[1;32m--> 200\u001b[1;33m     \u001b[0mresult\u001b[0m \u001b[1;33m=\u001b[0m \u001b[0mseek_plan\u001b[0m\u001b[1;33m(\u001b[0m\u001b[0mstate\u001b[0m\u001b[1;33m,\u001b[0m\u001b[0mtasks\u001b[0m\u001b[1;33m,\u001b[0m\u001b[1;33m[\u001b[0m\u001b[1;33m]\u001b[0m\u001b[1;33m,\u001b[0m\u001b[1;36m0\u001b[0m\u001b[1;33m,\u001b[0m\u001b[0mverbose\u001b[0m\u001b[1;33m)\u001b[0m\u001b[1;33m\u001b[0m\u001b[0m\n\u001b[0m\u001b[0;32m    201\u001b[0m     \u001b[1;32mif\u001b[0m \u001b[0mverbose\u001b[0m\u001b[1;33m>\u001b[0m\u001b[1;36m0\u001b[0m\u001b[1;33m:\u001b[0m \u001b[0mprint\u001b[0m\u001b[1;33m(\u001b[0m\u001b[1;34m'** result ='\u001b[0m\u001b[1;33m,\u001b[0m\u001b[0mresult\u001b[0m\u001b[1;33m,\u001b[0m\u001b[1;34m'\\n'\u001b[0m\u001b[1;33m)\u001b[0m\u001b[1;33m\u001b[0m\u001b[0m\n\u001b[0;32m    202\u001b[0m     \u001b[1;32mreturn\u001b[0m \u001b[0mresult\u001b[0m\u001b[1;33m\u001b[0m\u001b[0m\n",
      "\u001b[1;32mC:\\Users\\Denas\\Documents\\python scripts\\Sistemas Inteligentes\\lab2\\pyhop.py\u001b[0m in \u001b[0;36mseek_plan\u001b[1;34m(state, tasks, plan, depth, verbose)\u001b[0m\n\u001b[0;32m    234\u001b[0m                 \u001b[0mprint\u001b[0m\u001b[1;33m(\u001b[0m\u001b[1;34m'depth {} new tasks: {}'\u001b[0m\u001b[1;33m.\u001b[0m\u001b[0mformat\u001b[0m\u001b[1;33m(\u001b[0m\u001b[0mdepth\u001b[0m\u001b[1;33m,\u001b[0m\u001b[0msubtasks\u001b[0m\u001b[1;33m)\u001b[0m\u001b[1;33m)\u001b[0m\u001b[1;33m\u001b[0m\u001b[0m\n\u001b[0;32m    235\u001b[0m             \u001b[1;32mif\u001b[0m \u001b[0msubtasks\u001b[0m \u001b[1;33m!=\u001b[0m \u001b[1;32mFalse\u001b[0m\u001b[1;33m:\u001b[0m\u001b[1;33m\u001b[0m\u001b[0m\n\u001b[1;32m--> 236\u001b[1;33m                 \u001b[0msolution\u001b[0m \u001b[1;33m=\u001b[0m \u001b[0mseek_plan\u001b[0m\u001b[1;33m(\u001b[0m\u001b[0mstate\u001b[0m\u001b[1;33m,\u001b[0m\u001b[0msubtasks\u001b[0m\u001b[1;33m+\u001b[0m\u001b[0mtasks\u001b[0m\u001b[1;33m[\u001b[0m\u001b[1;36m1\u001b[0m\u001b[1;33m:\u001b[0m\u001b[1;33m]\u001b[0m\u001b[1;33m,\u001b[0m\u001b[0mplan\u001b[0m\u001b[1;33m,\u001b[0m\u001b[0mdepth\u001b[0m\u001b[1;33m+\u001b[0m\u001b[1;36m1\u001b[0m\u001b[1;33m,\u001b[0m\u001b[0mverbose\u001b[0m\u001b[1;33m)\u001b[0m\u001b[1;33m\u001b[0m\u001b[0m\n\u001b[0m\u001b[0;32m    237\u001b[0m                 \u001b[1;32mif\u001b[0m \u001b[0msolution\u001b[0m \u001b[1;33m!=\u001b[0m \u001b[1;32mFalse\u001b[0m\u001b[1;33m:\u001b[0m\u001b[1;33m\u001b[0m\u001b[0m\n\u001b[0;32m    238\u001b[0m                     \u001b[1;32mreturn\u001b[0m \u001b[0msolution\u001b[0m\u001b[1;33m\u001b[0m\u001b[0m\n",
      "\u001b[1;32mC:\\Users\\Denas\\Documents\\python scripts\\Sistemas Inteligentes\\lab2\\pyhop.py\u001b[0m in \u001b[0;36mseek_plan\u001b[1;34m(state, tasks, plan, depth, verbose)\u001b[0m\n\u001b[0;32m    229\u001b[0m         \u001b[0mrelevant\u001b[0m \u001b[1;33m=\u001b[0m \u001b[0mmethods\u001b[0m\u001b[1;33m[\u001b[0m\u001b[0mtask1\u001b[0m\u001b[1;33m[\u001b[0m\u001b[1;36m0\u001b[0m\u001b[1;33m]\u001b[0m\u001b[1;33m]\u001b[0m\u001b[1;33m\u001b[0m\u001b[0m\n\u001b[0;32m    230\u001b[0m         \u001b[1;32mfor\u001b[0m \u001b[0mmethod\u001b[0m \u001b[1;32min\u001b[0m \u001b[0mrelevant\u001b[0m\u001b[1;33m:\u001b[0m\u001b[1;33m\u001b[0m\u001b[0m\n\u001b[1;32m--> 231\u001b[1;33m             \u001b[0msubtasks\u001b[0m \u001b[1;33m=\u001b[0m \u001b[0mmethod\u001b[0m\u001b[1;33m(\u001b[0m\u001b[0mstate\u001b[0m\u001b[1;33m,\u001b[0m\u001b[1;33m*\u001b[0m\u001b[0mtask1\u001b[0m\u001b[1;33m[\u001b[0m\u001b[1;36m1\u001b[0m\u001b[1;33m:\u001b[0m\u001b[1;33m]\u001b[0m\u001b[1;33m)\u001b[0m\u001b[1;33m\u001b[0m\u001b[0m\n\u001b[0m\u001b[0;32m    232\u001b[0m             \u001b[1;31m# Can't just say \"if subtasks:\", because that's wrong if subtasks == []\u001b[0m\u001b[1;33m\u001b[0m\u001b[1;33m\u001b[0m\u001b[0m\n\u001b[0;32m    233\u001b[0m             \u001b[1;32mif\u001b[0m \u001b[0mverbose\u001b[0m\u001b[1;33m>\u001b[0m\u001b[1;36m2\u001b[0m\u001b[1;33m:\u001b[0m\u001b[1;33m\u001b[0m\u001b[0m\n",
      "\u001b[1;32mC:\\Users\\Denas\\Documents\\python scripts\\Sistemas Inteligentes\\lab2\\methods.py\u001b[0m in \u001b[0;36mgo_to_waypoint_m\u001b[1;34m(state, truck, waypoint)\u001b[0m\n\u001b[0;32m      3\u001b[0m \u001b[1;33m\u001b[0m\u001b[0m\n\u001b[0;32m      4\u001b[0m \u001b[1;32mdef\u001b[0m \u001b[0mgo_to_waypoint_m\u001b[0m\u001b[1;33m(\u001b[0m\u001b[0mstate\u001b[0m\u001b[1;33m,\u001b[0m\u001b[0mtruck\u001b[0m\u001b[1;33m,\u001b[0m\u001b[0mwaypoint\u001b[0m\u001b[1;33m)\u001b[0m\u001b[1;33m:\u001b[0m\u001b[1;33m\u001b[0m\u001b[0m\n\u001b[1;32m----> 5\u001b[1;33m     \u001b[1;32mif\u001b[0m \u001b[0mstate\u001b[0m\u001b[1;33m.\u001b[0m\u001b[0mat\u001b[0m\u001b[1;33m[\u001b[0m\u001b[0mtruck\u001b[0m\u001b[1;33m]\u001b[0m\u001b[1;33m==\u001b[0m\u001b[0mwaypoint\u001b[0m\u001b[1;33m:\u001b[0m\u001b[1;33m\u001b[0m\u001b[0m\n\u001b[0m\u001b[0;32m      6\u001b[0m         \u001b[1;32mreturn\u001b[0m \u001b[1;33m[\u001b[0m\u001b[1;33m(\u001b[0m\u001b[1;34m'already_there'\u001b[0m\u001b[1;33m,\u001b[0m \u001b[0mtruck\u001b[0m\u001b[1;33m)\u001b[0m\u001b[1;33m]\u001b[0m\u001b[1;33m\u001b[0m\u001b[0m\n\u001b[0;32m      7\u001b[0m     \u001b[1;32melse\u001b[0m\u001b[1;33m:\u001b[0m\u001b[1;33m\u001b[0m\u001b[0m\n",
      "\u001b[1;31mKeyError\u001b[0m: ''"
     ]
    }
   ],
   "source": [
    "import pyhop\n",
    "import methods\n",
    "import tasks\n",
    "%load_ext autoreload\n",
    "%autoreload 2\n",
    "\n",
    "state1=pyhop.State('state1')\n",
    "#state1.call_area='3'\n",
    "state1.at={'T1':'D0','T0':'D1'}\n",
    "state1.fuel={'T0':'4','T1':'4'}\n",
    "\n",
    "state1.empty={'H0':True,'H1':True,'H2':True,'H3':True,'H4':True,'T0':['C05','C07'],'T1':True,'P00':['C1','C11','C12'],'P01':True, 'P10':['C0','C01','C02','C03'],'P20':['C2','C21','C22'],'P30':True,'P40':True}\n",
    "state1.crossed={'T1':['D0'],'T0':['D1']}\n",
    "\n",
    "#Static info\n",
    "#state1.can_traverse=[['D0','D1'],['D1','D0'],['D1','D2'],['D2','D1'],['D0','D2'],['D2','D0']]\n",
    "state1.can_traverse={'D0':['D1','D2'], 'D1':['D0','D2','FUEL'], 'D2':['D0','D1','D3'], 'D3':['D2','D4'], 'D4':['D3'], 'FUEL':['D1']}\n",
    "state1.pallet_board={'D0':{'P00','P01'},'D1':{'P10'},'D2':{'P20'},'D3':{'P30'},'D4':{'P40'}}\n",
    "state1.crans={'H0':'D0', 'H1':'D1', 'H2':'D2', 'H3':'D3', 'H4':'D4'}\n",
    "state1.fuel_limit={'T0':'2','T1':'2'}\n",
    "state1.carry_limit={'T0':'2','T1':'1'}\n",
    "state1.truck=['T1','T0']\n",
    "\n",
    "#GOAL\n",
    "pyhop.print_methods()\n",
    "pyhop.print_operators()\n",
    "#pyhop.pyhop(state1, [('go_to_waypoint','T1','D4')], verbose=3)\n",
    "pyhop.pyhop(state1,[('move_container', ['C12'], 'P30')], verbose=3)\n",
    "#pyhop.pyhop(state1,[('move_container', ['C01'], 'P40')], verbose=3)\n",
    "\n",
    "  \n",
    "    #find shortestpath -done\n",
    "    #move method replaced on base of shortpath - done\n",
    "    #find nearest truck - done\n",
    "    #fuel count, limit, consumption - done\n",
    "    #refuel if needed-done\n",
    "    #select nearest truck based on fuel limit (if path consumptin is lesser,than truck limit) - done\n",
    "    #add check if its on truck -done\n",
    "    #double pallet container replacement use instead of truck moving if available\n",
    "    #add check if its on cran - done,but removed.\n",
    "    #truck carry_limit added and managed\n",
    "\n",
    "   "
   ]
  },
  {
   "cell_type": "code",
   "execution_count": null,
   "metadata": {
    "collapsed": true
   },
   "outputs": [],
   "source": []
  }
 ],
 "metadata": {
  "celltoolbar": "Raw Cell Format",
  "kernelspec": {
   "display_name": "Python 3",
   "language": "python",
   "name": "python3"
  },
  "language_info": {
   "codemirror_mode": {
    "name": "ipython",
    "version": 3
   },
   "file_extension": ".py",
   "mimetype": "text/x-python",
   "name": "python",
   "nbconvert_exporter": "python",
   "pygments_lexer": "ipython3",
   "version": "3.5.2"
  }
 },
 "nbformat": 4,
 "nbformat_minor": 1
}
