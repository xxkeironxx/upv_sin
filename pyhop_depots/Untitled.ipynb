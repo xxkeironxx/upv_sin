{
 "cells": [
  {
   "cell_type": "code",
   "execution_count": 1,
   "metadata": {
    "collapsed": false
   },
   "outputs": [
    {
     "data": {
      "text/plain": [
       "['D1', 'D2']"
      ]
     },
     "execution_count": 1,
     "metadata": {},
     "output_type": "execute_result"
    }
   ],
   "source": [
    "can_traverse=[['D0','D1'],['D1','D0'],['D1','D2'],['D2','D1'],['D0','D2'],['D2','D0']]\n",
    "[a[1] for a in can_traverse if 'D0' in a[0]]\n",
    " #   print(a)\n",
    "\n",
    "#camlist=[key for key,value in state.supports[rover].items() if mode in value]"
   ]
  },
  {
   "cell_type": "code",
   "execution_count": 41,
   "metadata": {
    "collapsed": false
   },
   "outputs": [
    {
     "name": "stdout",
     "output_type": "stream",
     "text": [
      "C2\n"
     ]
    }
   ],
   "source": [
    "cran={'H0':'D0', 'H1':'D1', 'H2':'D2'}\n",
    "empty={'H0':True,'H1':True,'H2':True,'T0':True,'T1':True,'P00':['C1','C2'],'P10':['C0'],'P20':True}\n",
    "pallet_board={'D0':{'P00'},'D1':{'P10'},'D2':{'P20'}}\n",
    "have_cont={'H0':[],'H1':[],'H2':[]}\n",
    "cran1='H0'\n",
    "pallet='P00'\n",
    "if pallet in pallet_board[cran[cran1]]:\n",
    "    if empty[pallet] is not True:\n",
    "        print(empty[pallet][-1])\n",
    "        #empty[pallet].pop()\n",
    "        #if empty[pallet] == []:\n",
    "        #    empty[pallet]=True\n",
    "        #print(empty[pallet])\n"
   ]
  },
  {
   "cell_type": "code",
   "execution_count": 61,
   "metadata": {
    "collapsed": false
   },
   "outputs": [
    {
     "name": "stdout",
     "output_type": "stream",
     "text": [
      "['C2', 'C1'] True\n"
     ]
    }
   ],
   "source": [
    "crans={'H0':'D0', 'H1':'D1', 'H2':'D2'}\n",
    "empty={'H0':'C1','H1':True,'H2':True,'T0':True,'T1':True,'P00':['C2'],'P10':['C0'],'P20':True}\n",
    "pallet_board={'D0':{'P00'},'D1':{'P10'},'D2':{'P20'}}\n",
    "cran='H0'\n",
    "pallet='P00'\n",
    "\n",
    "if pallet in pallet_board[crans[cran]] and empty[cran] is not True:\n",
    "    empty[pallet].append(empty[cran])\n",
    "    empty[cran]=True\n",
    "    \n",
    "    print(empty[pallet], empty[cran])"
   ]
  },
  {
   "cell_type": "code",
   "execution_count": 66,
   "metadata": {
    "collapsed": false
   },
   "outputs": [],
   "source": [
    "crans={'H0':'D0', 'H1':'D1', 'H2':'D2'}\n",
    "empty={'H0':True,'H1':True,'H2':True,'T0':True,'T1':['C3'],'P00':['C2'],'P10':['C0'],'P20':True}\n",
    "pallet_board={'D0':{'P00'},'D1':{'P10'},'D2':{'P20'}}\n",
    "at={'T1':'D0','T0':'D1'}\n",
    "cran='H0'\n",
    "pallet='P00'\n",
    "truck='T1'\n",
    "if at[truck] is crans[cran] and empty[truck] is not True and empty[cran] is True:\n",
    "    empty[cran]=empty[truck][-1]\n",
    "    empty[truck].pop()\n",
    "    if empty[truck] == []:\n",
    "        empty[truck]=True"
   ]
  },
  {
   "cell_type": "code",
   "execution_count": 3,
   "metadata": {
    "collapsed": false
   },
   "outputs": [
    {
     "ename": "TypeError",
     "evalue": "list indices must be integers or slices, not str",
     "output_type": "error",
     "traceback": [
      "\u001b[1;31m---------------------------------------------------------------------------\u001b[0m",
      "\u001b[1;31mTypeError\u001b[0m                                 Traceback (most recent call last)",
      "\u001b[1;32m<ipython-input-3-dd67f6201e0c>\u001b[0m in \u001b[0;36m<module>\u001b[1;34m()\u001b[0m\n\u001b[0;32m     15\u001b[0m                         \u001b[0mshortest\u001b[0m \u001b[1;33m=\u001b[0m \u001b[0mnewpath\u001b[0m\u001b[1;33m\u001b[0m\u001b[0m\n\u001b[0;32m     16\u001b[0m         \u001b[1;32mreturn\u001b[0m \u001b[0mshortest\u001b[0m\u001b[1;33m\u001b[0m\u001b[0m\n\u001b[1;32m---> 17\u001b[1;33m \u001b[0mfind_shortest_path\u001b[0m\u001b[1;33m(\u001b[0m\u001b[0mcan_traverse\u001b[0m\u001b[1;33m,\u001b[0m\u001b[1;34m'D0'\u001b[0m\u001b[1;33m,\u001b[0m \u001b[1;34m'D5'\u001b[0m\u001b[1;33m)\u001b[0m\u001b[1;33m\u001b[0m\u001b[0m\n\u001b[0m",
      "\u001b[1;32m<ipython-input-3-dd67f6201e0c>\u001b[0m in \u001b[0;36mfind_shortest_path\u001b[1;34m(graph, start, end, path)\u001b[0m\n\u001b[0;32m      8\u001b[0m             \u001b[1;32mreturn\u001b[0m \u001b[1;32mNone\u001b[0m\u001b[1;33m\u001b[0m\u001b[0m\n\u001b[0;32m      9\u001b[0m         \u001b[0mshortest\u001b[0m \u001b[1;33m=\u001b[0m \u001b[1;32mNone\u001b[0m\u001b[1;33m\u001b[0m\u001b[0m\n\u001b[1;32m---> 10\u001b[1;33m         \u001b[1;32mfor\u001b[0m \u001b[0mnode\u001b[0m \u001b[1;32min\u001b[0m \u001b[0mgraph\u001b[0m\u001b[1;33m[\u001b[0m\u001b[0mstart\u001b[0m\u001b[1;33m]\u001b[0m\u001b[1;33m:\u001b[0m\u001b[1;33m\u001b[0m\u001b[0m\n\u001b[0m\u001b[0;32m     11\u001b[0m             \u001b[1;32mif\u001b[0m \u001b[0mnode\u001b[0m \u001b[1;32mnot\u001b[0m \u001b[1;32min\u001b[0m \u001b[0mpath\u001b[0m\u001b[1;33m:\u001b[0m\u001b[1;33m\u001b[0m\u001b[0m\n\u001b[0;32m     12\u001b[0m                 \u001b[0mnewpath\u001b[0m \u001b[1;33m=\u001b[0m \u001b[0mfind_shortest_path\u001b[0m\u001b[1;33m(\u001b[0m\u001b[0mgraph\u001b[0m\u001b[1;33m,\u001b[0m \u001b[0mnode\u001b[0m\u001b[1;33m,\u001b[0m \u001b[0mend\u001b[0m\u001b[1;33m,\u001b[0m \u001b[0mpath\u001b[0m\u001b[1;33m)\u001b[0m\u001b[1;33m\u001b[0m\u001b[0m\n",
      "\u001b[1;31mTypeError\u001b[0m: list indices must be integers or slices, not str"
     ]
    }
   ],
   "source": [
    "def navigate(state, truck, to):\n",
    "    fr=state.at[truck]\n",
    "    if to in state.can_traverse[fr]:\n",
    "        state.at[truck]=to\n",
    "        state.crossed[truck].append(state.at[truck])\n",
    "    \n",
    "#    to1=[a[1] for a in state.can_traverse if state.at[truck] in a[0]]\n",
    "#    if to in to1:\n",
    "#        state.at[truck]=to\n",
    "#        state.crossed[truck].append(state.at[truck])\n",
    "        return state\n",
    "    else:\n",
    "        return False\n",
    "\n",
    "def go_to_waypoint_m(state,truck,waypoint): #can be improved using find_shortest_path\n",
    "    if state.at[truck]==waypoint:\n",
    "        return [('already_there', truck)]\n",
    "    else:\n",
    "        '''for src,dst in state.can_traverse.items():\n",
    "            if src==state.at[truck]:\n",
    "                for d in dst: \n",
    "                    if d not in state.crossed[truck]:\n",
    "                        next_waypoint=d\n",
    "                        print ('------------aaaaa',next_waypoint)\n",
    "                        break\n",
    "                    return [('navigate', truck, next_waypoint), ('go_to_waypoint', truck, waypoint)]'''\n",
    "        for src,dst in state.can_traverse.items():\n",
    "            #print (state.can_traverse.items())\n",
    "#            print('src,dst',src,dst)\n",
    "            if state.at[truck]==src:\n",
    "#                print('at[truck],src',state.at[truck],src)\n",
    "                for d in dst:\n",
    "#                    print('d in dst=',d,'crossed',state.crossed[truck])\n",
    "                    if d not in state.crossed[truck]:\n",
    "                        next_waypoint=d\n",
    "#                        print('d,state _crossed',d,state.crossed[truck])\n",
    "        return [('navigate', truck, next_waypoint), ('go_to_waypoint', truck, waypoint)]\n",
    "pyhop.declare_methods('go_to_waypoint', go_to_waypoint_m)\n",
    "//////old ver"
   ]
  },
  {
   "cell_type": "code",
   "execution_count": 6,
   "metadata": {
    "collapsed": false
   },
   "outputs": [
    {
     "data": {
      "text/plain": [
       "'D0'"
      ]
     },
     "execution_count": 6,
     "metadata": {},
     "output_type": "execute_result"
    }
   ],
   "source": [
    "#include methods.py\n",
    "path={'D0':['D1'], 'D1':['D0','D1','D3'], 'D2':['D0','D1'], 'D3':['D4'], 'D4':['D5']}\n",
    "can_traverse={'D0':['D1','D2'], 'D1':['D0','D1'], 'D2':['D0','D1']}\n",
    "def find_shortest_path(graph, start, end, path=[]):\n",
    "        path = path + [start]\n",
    "        if start == end:\n",
    "            return path\n",
    "        if start not in graph.keys():\n",
    "            return None\n",
    "        shortest = None\n",
    "        for node in graph[start]:\n",
    "            if node not in path:\n",
    "                newpath = find_shortest_path(graph, node, end, path)\n",
    "                if newpath:\n",
    "                    if not shortest or len(newpath) < len(shortest):\n",
    "                        shortest = newpath\n",
    "        return shortest\n",
    "w=find_shortest_path(can_traverse,'D0', 'D2')\n",
    "w[0]"
   ]
  },
  {
   "cell_type": "code",
   "execution_count": 17,
   "metadata": {
    "collapsed": false
   },
   "outputs": [
    {
     "name": "stdout",
     "output_type": "stream",
     "text": [
      "['P10']\n",
      "['P20']\n"
     ]
    }
   ],
   "source": [
    "container_list=['C0','C5']\n",
    "pallet_board={'D0':{'P00'},'D1':{'P10'},'D2':{'P20'}}\n",
    "empty={'H0':[''],'H1':[''],'H2':[''],'T0':[''],'T1':['C3'],'P00':['C2'],'P10':['C0'],'P20':['C1','C4','C5']}\n",
    "for container in container_list:\n",
    "    #print(container)\n",
    "    l=[loc for loc,cont in empty.items() if container in cont]\n",
    "    print(l)\n",
    "    d=[dock for dock, pallet in pallet_board.items() if l[0] in pallet]\n",
    "#    print(d)\n",
    "#    print (empty[l[0]][0])\n",
    "#    if empty[l[0]][-1] is not container:\n",
    "#        print ('netop')\n",
    "#destination='P00'\n",
    "\n",
    "#platform_dst=[plat for plat,pallet in pallet_board.items() if destination in pallet]\n",
    "#print(platform_dst)"
   ]
  },
  {
   "cell_type": "code",
   "execution_count": 21,
   "metadata": {
    "collapsed": false
   },
   "outputs": [
    {
     "name": "stdout",
     "output_type": "stream",
     "text": [
      "['P10']\n"
     ]
    }
   ],
   "source": [
    "container_list=['C0','C5']\n",
    "pallet_board={'D0':{'P00'},'D1':{'P10'},'D2':{'P20'}}\n",
    "empty={'H0':[''],'H1':[''],'H2':[''],'T0':[''],'T1':['C3'],'P00':['C2'],'P10':['C0'],'P20':['C1','C4','C5']}\n",
    "container='C0'\n",
    "pallet_src=[loc for loc,cont in empty.items() if container in cont]\n",
    "print (pallet_src)"
   ]
  },
  {
   "cell_type": "code",
   "execution_count": 14,
   "metadata": {
    "collapsed": false
   },
   "outputs": [
    {
     "name": "stdout",
     "output_type": "stream",
     "text": [
      "['D0']\n"
     ]
    }
   ],
   "source": [
    "container_list=['C0','C5']\n",
    "pallet_board={'D0':{'P00'},'D1':{'P10'},'D2':{'P20'}}\n",
    "empty={'H0':[''],'H1':[''],'H2':[''],'T0':[''],'T1':['C3'],'P00':['C2'],'P10':['C0'],'P20':['C1','C4','C5']}\n",
    "\n",
    "destination='P00'\n",
    "\n",
    "platform_dst=[plat for plat,pallet in pallet_board.items() if destination in pallet]\n",
    "print(platform_dst)"
   ]
  },
  {
   "cell_type": "code",
   "execution_count": 2,
   "metadata": {
    "collapsed": false
   },
   "outputs": [
    {
     "name": "stdout",
     "output_type": "stream",
     "text": [
      "D0\n",
      "['D0', 'D1']\n",
      "D4\n"
     ]
    }
   ],
   "source": [
    "at={'T1':'D0','T0':'D1'}\n",
    "truck='T1'\n",
    "path={'D0':['D1','D4'], 'D1':['D0','D1','D3'], 'D2':['D0','D1'], 'D3':['D4'], 'D4':['D5']}\n",
    "crossed={'T1':['D0','D1'],'T0':['D1']}\n",
    "#print(path.items())\n",
    "#for key,value in cpath.items():\n",
    "#    print(key,value)\n",
    "#print(at[truck])\n",
    "a=''\n",
    "print(at[truck])\n",
    "print(crossed[truck])\n",
    "for src,dst in path.items():\n",
    "    if src==at[truck]:\n",
    "        for b in dst: \n",
    "            if b not in crossed[truck]:\n",
    "                print (b)\n",
    "#for b in lol:\n",
    "#    if 'D0' not in b:\n",
    "#        print(b)\n",
    " #   a=key\n",
    "\n",
    "#print(lol)\n",
    "    #if at[truck]==src and path[1] not in state.crossed[truck]:\n",
    "     #           next_waypoint=path[1]\n",
    "       #         break"
   ]
  },
  {
   "cell_type": "code",
   "execution_count": 1,
   "metadata": {
    "collapsed": false
   },
   "outputs": [
    {
     "name": "stdout",
     "output_type": "stream",
     "text": [
      "T1 D0 D5\n"
     ]
    },
    {
     "ename": "NameError",
     "evalue": "name 'find_shortest_path' is not defined",
     "output_type": "error",
     "traceback": [
      "\u001b[1;31m---------------------------------------------------------------------------\u001b[0m",
      "\u001b[1;31mNameError\u001b[0m                                 Traceback (most recent call last)",
      "\u001b[1;32m<ipython-input-1-b41f7692cba9>\u001b[0m in \u001b[0;36m<module>\u001b[1;34m()\u001b[0m\n\u001b[0;32m     13\u001b[0m \u001b[1;32mfor\u001b[0m \u001b[0mtr\u001b[0m\u001b[1;33m,\u001b[0m\u001b[0mpos\u001b[0m \u001b[1;32min\u001b[0m \u001b[0mat\u001b[0m\u001b[1;33m.\u001b[0m\u001b[0mitems\u001b[0m\u001b[1;33m(\u001b[0m\u001b[1;33m)\u001b[0m\u001b[1;33m:\u001b[0m\u001b[1;33m\u001b[0m\u001b[0m\n\u001b[0;32m     14\u001b[0m     \u001b[0mprint\u001b[0m\u001b[1;33m(\u001b[0m\u001b[0mtr\u001b[0m\u001b[1;33m,\u001b[0m\u001b[0mpos\u001b[0m\u001b[1;33m,\u001b[0m\u001b[0mdest\u001b[0m\u001b[1;33m)\u001b[0m\u001b[1;33m\u001b[0m\u001b[0m\n\u001b[1;32m---> 15\u001b[1;33m     \u001b[0ml\u001b[0m\u001b[1;33m=\u001b[0m\u001b[0mlen\u001b[0m\u001b[1;33m(\u001b[0m\u001b[0mfind_shortest_path\u001b[0m\u001b[1;33m(\u001b[0m\u001b[0mpath\u001b[0m\u001b[1;33m,\u001b[0m\u001b[0mpos\u001b[0m\u001b[1;33m,\u001b[0m \u001b[0mdest\u001b[0m\u001b[1;33m)\u001b[0m\u001b[1;33m)\u001b[0m\u001b[1;33m\u001b[0m\u001b[0m\n\u001b[0m\u001b[0;32m     16\u001b[0m     \u001b[0mprint\u001b[0m\u001b[1;33m(\u001b[0m\u001b[0ml\u001b[0m\u001b[1;33m)\u001b[0m\u001b[1;33m\u001b[0m\u001b[0m\n\u001b[0;32m     17\u001b[0m     \u001b[1;32mif\u001b[0m \u001b[0md\u001b[0m\u001b[1;33m==\u001b[0m\u001b[1;36m0\u001b[0m \u001b[1;32mor\u001b[0m \u001b[0ml\u001b[0m\u001b[1;33m<\u001b[0m\u001b[0md\u001b[0m\u001b[1;33m:\u001b[0m\u001b[1;33m\u001b[0m\u001b[0m\n",
      "\u001b[1;31mNameError\u001b[0m: name 'find_shortest_path' is not defined"
     ]
    }
   ],
   "source": [
    "#include methods.py\n",
    "#include problem.py\n",
    "can_traverse={'D0':['D1','D2'], 'D1':['D0','D1'], 'D2':['D0','D1']}\n",
    "\n",
    "path={'D0':['D1','D4'], 'D1':['D0','D1','D3'], 'D2':['D0','D1'], 'D3':['D4'], 'D4':['D5']}\n",
    "from tasks import find_shortest_path as find_sh\n",
    "\n",
    "at={'T1':'D0','T0':'D1'}\n",
    "d=0\n",
    "c=4\n",
    "dest='D5'\n",
    "nearest_truck=''\n",
    "for tr,pos in at.items():\n",
    "    print(tr,pos,dest)\n",
    "    l=len(find_shortest_path(path,pos, dest))\n",
    "    print(l)\n",
    "    if d==0 or l<d:\n",
    "        d=l\n",
    "        nearest_truck=tr\n",
    "\n",
    "\n",
    "#print(nearest_truck)\n",
    "#find_shortest_path(path,'D0', 'D5')\n",
    "find_sh(can_traverse, 'D0', 'D2')"
   ]
  },
  {
   "cell_type": "code",
   "execution_count": 1,
   "metadata": {
    "collapsed": false
   },
   "outputs": [
    {
     "data": {
      "text/plain": [
       "dict_items([('D2', ['D0', 'D1']), ('D0', ['D1', 'D2']), ('D1', ['D0', 'D1'])])"
      ]
     },
     "execution_count": 1,
     "metadata": {},
     "output_type": "execute_result"
    }
   ],
   "source": [
    "can_traverse={'D0':['D1','D2'], 'D1':['D0','D1'], 'D2':['D0','D1']}\n",
    "can_traverse.items()"
   ]
  },
  {
   "cell_type": "code",
   "execution_count": 97,
   "metadata": {
    "collapsed": false
   },
   "outputs": [
    {
     "name": "stdout",
     "output_type": "stream",
     "text": [
      "P20\n",
      "{'P20'}\n",
      "D2\n"
     ]
    }
   ],
   "source": [
    "pallet_board={'D0':{'P00','P01'},'D1':{'P10'},'D2':{'P20'}}\n",
    "pallet_src='P01'\n",
    "pallet_dst='P10'\n",
    "p2='P20'\n",
    "platform_src=[plat for plat,pallet in pallet_board.items() if pallet_src in pallet][0]\n",
    "#print(platform_src)\n",
    "p2=[p for b,p in pallet_board.items() if pallet_src not in p and pallet_dst not in p][0]\n",
    "print(list(p2)[0])\n",
    "print(p2)\n",
    "false_platform=[plat for plat,pallet in pallet_board.items() if list(p2)[0] in pallet ][0]\n",
    "print(false_platform)"
   ]
  },
  {
   "cell_type": "code",
   "execution_count": 114,
   "metadata": {
    "collapsed": false
   },
   "outputs": [
    {
     "name": "stdout",
     "output_type": "stream",
     "text": [
      "T0\n",
      "T0\n"
     ]
    }
   ],
   "source": [
    "empty={'H0':True,'H1':True,'H2':True,'T0':['C02'],'T1':['C3'],'P00':['C1','C11','C12'],'P10':['C0'],'P20':True}\n",
    "container='C02'\n",
    "pallet_src=[loc for loc,cont in empty.items() if cont is not True and container in cont][0]\n",
    "print(pallet_src)\n",
    "truck=['T1','T0']\n",
    "if [tr for tr in truck if pallet_src in tr]:\n",
    "    tu=[tr for tr in truck if pallet_src in tr][0]\n",
    "    print(tu)"
   ]
  },
  {
   "cell_type": "code",
   "execution_count": 21,
   "metadata": {
    "collapsed": false
   },
   "outputs": [
    {
     "ename": "SyntaxError",
     "evalue": "invalid syntax (<ipython-input-21-4edfb8a7df6a>, line 4)",
     "output_type": "error",
     "traceback": [
      "\u001b[1;36m  File \u001b[1;32m\"<ipython-input-21-4edfb8a7df6a>\"\u001b[1;36m, line \u001b[1;32m4\u001b[0m\n\u001b[1;33m    if cran=[cran for cran in crans if 'H0' in cran]:\u001b[0m\n\u001b[1;37m           ^\u001b[0m\n\u001b[1;31mSyntaxError\u001b[0m\u001b[1;31m:\u001b[0m invalid syntax\n"
     ]
    }
   ],
   "source": [
    "crans={'H0':'D0', 'H1':'D1', 'H2':'D2', 'H3':'D3', 'H4':'D4'}\n",
    "#if [cran for cran in state.crans if H0 in cran]: #check, if container is in a truck\n",
    "#    truck=[tr for tr in state.truck if pallet_src in tr][0]\n",
    "if cran=[cran for cran in crans if 'H0' in cran]:\n",
    "    print(cran)"
   ]
  },
  {
   "cell_type": "code",
   "execution_count": null,
   "metadata": {
    "collapsed": true
   },
   "outputs": [],
   "source": [
    "                for tr,pos in state.at.items():\n",
    "                    if int(state.fuel_limit[tr])<len(find_sh(state.can_traverse, platform_src, platform_dst))+len(find_sh(state.can_traverse, platform_dst, 'FUEL'))-2:\n",
    "                        continue\n",
    "                    if find_sh(state.can_traverse, pos, platform_src):\n",
    "                        distance_from_tr=len(find_sh(state.can_traverse,pos, platform_src))\n",
    "                        if distance_from_tr_min==0 or distance_from_tr<distance_from_tr_min:\n",
    "                            distance_from_tr_min=distance_from_tr\n",
    "                            truck=tr\n",
    "                    print('============TRUCK SELECTED ',truck,'=============')"
   ]
  },
  {
   "cell_type": "code",
   "execution_count": 2,
   "metadata": {
    "collapsed": false
   },
   "outputs": [
    {
     "ename": "SyntaxError",
     "evalue": "'return' outside function (<ipython-input-2-6e86ebfcc4f2>, line 17)",
     "output_type": "error",
     "traceback": [
      "\u001b[1;36m  File \u001b[1;32m\"<ipython-input-2-6e86ebfcc4f2>\"\u001b[1;36m, line \u001b[1;32m17\u001b[0m\n\u001b[1;33m    return [('go_to_waypoint', truck, platform_src),('load', cran_src, truck),('go_to_waypoint', truck, platform_dst),('unload', cran_dst, truck),('drop', cran_dst, destination),('move_container', container_list, destination)]\u001b[0m\n\u001b[1;37m    ^\u001b[0m\n\u001b[1;31mSyntaxError\u001b[0m\u001b[1;31m:\u001b[0m 'return' outside function\n"
     ]
    }
   ],
   "source": [
    "            #check, if container is on cran\n",
    "            #[cran for cran in crans if 'H0' in cran]\n",
    "            if [cran for cran in state.crans if pallet_src in cran]: #check, if container is in a truck\n",
    "                cran_src=[cran for cran in state.crans if pallet_src in cran][0]\n",
    "                platform_src=state.crans[cran_src]\n",
    "                print(platform_src)\n",
    "                print('==========CONTAINER IS AT CRAN',cran_src,'================')\n",
    "                for tr,pos in state.at.items():\n",
    "                    if int(state.fuel_limit[tr])<len(find_sh(state.can_traverse, platform_src, platform_dst))+len(find_sh(state.can_traverse, platform_dst, 'FUEL'))-2:\n",
    "                        continue\n",
    "                    if find_sh(state.can_traverse, pos, platform_src):\n",
    "                        distance_from_tr=len(find_sh(state.can_traverse,pos, platform_src))\n",
    "                        if distance_from_tr_min==0 or distance_from_tr<distance_from_tr_min:\n",
    "                            distance_from_tr_min=distance_from_tr\n",
    "                            truck=tr\n",
    "                    print('============TRUCK SELECTED ',truck,'=============')\n",
    "                    return [('go_to_waypoint', truck, platform_src),('load', cran_src, truck),('go_to_waypoint', truck, platform_dst),('unload', cran_dst, truck),('drop', cran_dst, destination),('move_container', container_list, destination)]"
   ]
  },
  {
   "cell_type": "code",
   "execution_count": null,
   "metadata": {
    "collapsed": true
   },
   "outputs": [],
   "source": []
  },
  {
   "cell_type": "code",
   "execution_count": 6,
   "metadata": {
    "collapsed": false
   },
   "outputs": [
    {
     "ename": "KeyError",
     "evalue": "'D*'",
     "output_type": "error",
     "traceback": [
      "\u001b[1;31m---------------------------------------------------------------------------\u001b[0m",
      "\u001b[1;31mKeyError\u001b[0m                                  Traceback (most recent call last)",
      "\u001b[1;32m<ipython-input-6-0c850efe5d97>\u001b[0m in \u001b[0;36m<module>\u001b[1;34m()\u001b[0m\n\u001b[0;32m      1\u001b[0m \u001b[0mpath\u001b[0m\u001b[1;33m=\u001b[0m\u001b[1;33m{\u001b[0m\u001b[1;34m'D0'\u001b[0m\u001b[1;33m:\u001b[0m\u001b[1;33m[\u001b[0m\u001b[1;34m'D1'\u001b[0m\u001b[1;33m,\u001b[0m\u001b[1;34m'D4'\u001b[0m\u001b[1;33m]\u001b[0m\u001b[1;33m,\u001b[0m \u001b[1;34m'D1'\u001b[0m\u001b[1;33m:\u001b[0m\u001b[1;33m[\u001b[0m\u001b[1;34m'D0'\u001b[0m\u001b[1;33m,\u001b[0m\u001b[1;34m'D1'\u001b[0m\u001b[1;33m,\u001b[0m\u001b[1;34m'D3'\u001b[0m\u001b[1;33m]\u001b[0m\u001b[1;33m,\u001b[0m \u001b[1;34m'D2'\u001b[0m\u001b[1;33m:\u001b[0m\u001b[1;33m[\u001b[0m\u001b[1;34m'D0'\u001b[0m\u001b[1;33m,\u001b[0m\u001b[1;34m'D1'\u001b[0m\u001b[1;33m]\u001b[0m\u001b[1;33m,\u001b[0m \u001b[1;34m'D3'\u001b[0m\u001b[1;33m:\u001b[0m\u001b[1;33m[\u001b[0m\u001b[1;34m'D4'\u001b[0m\u001b[1;33m]\u001b[0m\u001b[1;33m,\u001b[0m \u001b[1;34m'D4'\u001b[0m\u001b[1;33m:\u001b[0m\u001b[1;33m[\u001b[0m\u001b[1;34m'D5'\u001b[0m\u001b[1;33m]\u001b[0m\u001b[1;33m}\u001b[0m\u001b[1;33m\u001b[0m\u001b[0m\n\u001b[0;32m      2\u001b[0m \u001b[1;33m\u001b[0m\u001b[0m\n\u001b[1;32m----> 3\u001b[1;33m \u001b[0mpath\u001b[0m\u001b[1;33m[\u001b[0m\u001b[1;34m'D*'\u001b[0m\u001b[1;33m]\u001b[0m\u001b[1;33m\u001b[0m\u001b[0m\n\u001b[0m",
      "\u001b[1;31mKeyError\u001b[0m: 'D*'"
     ]
    }
   ],
   "source": [
    "path={'D0':['D1','D4'], 'D1':['D0','D1','D3'], 'D2':['D0','D1'], 'D3':['D4'], 'D4':['D5']}\n",
    "\n",
    "path['D*']"
   ]
  }
 ],
 "metadata": {
  "kernelspec": {
   "display_name": "Python 3",
   "language": "python",
   "name": "python3"
  },
  "language_info": {
   "codemirror_mode": {
    "name": "ipython",
    "version": 3
   },
   "file_extension": ".py",
   "mimetype": "text/x-python",
   "name": "python",
   "nbconvert_exporter": "python",
   "pygments_lexer": "ipython3",
   "version": "3.5.2"
  }
 },
 "nbformat": 4,
 "nbformat_minor": 1
}
